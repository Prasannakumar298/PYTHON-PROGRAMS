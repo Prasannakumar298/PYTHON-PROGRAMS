{
 "cells": [
  {
   "cell_type": "code",
   "execution_count": 3,
   "id": "0b19bc13-6eef-4820-b054-261a67d059be",
   "metadata": {},
   "outputs": [
    {
     "name": "stdin",
     "output_type": "stream",
     "text": [
      "enter any character: 6\n",
      "enter any character 6\n",
      "enter any character 8\n",
      "enter any character 6\n",
      "enter any character r\n",
      "enter any character u\n",
      "enter any character \n",
      "enter any character S\n",
      "enter any character R\n",
      "enter any character T\n",
      "enter any character Y\n",
      "enter any character *\n"
     ]
    },
    {
     "name": "stdout",
     "output_type": "stream",
     "text": [
      "lowercase character: 2\n",
      "uppercase character: 4\n",
      "number values: 4\n"
     ]
    }
   ],
   "source": [
    "''' write a program to read a charater untill * is entered.count the number of uppercase,lowercase and number entered by the user'''\n",
    "ch = input(\"enter any character:\")\n",
    "n=u=l=0\n",
    "if ch>='0' and ch<='9':\n",
    "    n+=1\n",
    "elif ch>='a' and ch<='z':\n",
    "    l+=1\n",
    "elif ch>='A' and ch<='Z':\n",
    "    u+=1\n",
    "while ch!='*':\n",
    "    ch=input(\"enter any character\")\n",
    "    if ch>='0' and ch<='9':\n",
    "        n+=1\n",
    "    elif ch>='a' and ch<='z':\n",
    "        l+=1\n",
    "    elif ch>='A' and ch<='Z':\n",
    "        u+=1\n",
    "print(\"lowercase character:\",l)\n",
    "print(\"uppercase character:\",u)\n",
    "print(\"number values:\",n)"
   ]
  },
  {
   "cell_type": "code",
   "execution_count": null,
   "id": "c10042ca-db6f-4bc1-ad29-c8b8d11e4308",
   "metadata": {},
   "outputs": [],
   "source": []
  }
 ],
 "metadata": {
  "kernelspec": {
   "display_name": "Python 3 (ipykernel)",
   "language": "python",
   "name": "python3"
  },
  "language_info": {
   "codemirror_mode": {
    "name": "ipython",
    "version": 3
   },
   "file_extension": ".py",
   "mimetype": "text/x-python",
   "name": "python",
   "nbconvert_exporter": "python",
   "pygments_lexer": "ipython3",
   "version": "3.12.7"
  }
 },
 "nbformat": 4,
 "nbformat_minor": 5
}
