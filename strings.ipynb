{
 "cells": [
  {
   "cell_type": "code",
   "execution_count": 1,
   "id": "a21c76cd-e88f-4804-aa22-aa020c88c135",
   "metadata": {},
   "outputs": [
    {
     "name": "stdout",
     "output_type": "stream",
     "text": [
      "cat\n",
      "donkey\n",
      "horse\n",
      "fish\n"
     ]
    }
   ],
   "source": [
    "# list of strings\n",
    "s=['cat','donkey','horse','fish']\n",
    "for pet in s:\n",
    "    print(pet)"
   ]
  },
  {
   "cell_type": "code",
   "execution_count": null,
   "id": "3732e5ac-6071-4a24-8bb9-bcd3314090ce",
   "metadata": {},
   "outputs": [],
   "source": [
    "#for  with-in range \n",
    "n=int(input(\"enter the value of n\"))\n",
    "for i in range(1, n+1,2):\n",
    "    print(i, end=' ')\n",
    "for i in range(n, 0, -1):\n",
    "    print(i, end=' ')"
   ]
  },
  {
   "cell_type": "code",
   "execution_count": null,
   "id": "28fd9536-3d8b-4516-9fc0-60ef24972558",
   "metadata": {},
   "outputs": [],
   "source": []
  }
 ],
 "metadata": {
  "kernelspec": {
   "display_name": "Python 3 (ipykernel)",
   "language": "python",
   "name": "python3"
  },
  "language_info": {
   "codemirror_mode": {
    "name": "ipython",
    "version": 3
   },
   "file_extension": ".py",
   "mimetype": "text/x-python",
   "name": "python",
   "nbconvert_exporter": "python",
   "pygments_lexer": "ipython3",
   "version": "3.12.7"
  }
 },
 "nbformat": 4,
 "nbformat_minor": 5
}
